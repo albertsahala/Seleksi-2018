{
 "cells": [
  {
   "cell_type": "code",
   "execution_count": 41,
   "metadata": {},
   "outputs": [],
   "source": [
    "from urllib.request import urlopen\n",
    "from bs4 import BeautifulSoup\n",
    "import json"
   ]
  },
  {
   "cell_type": "code",
   "execution_count": 35,
   "metadata": {},
   "outputs": [],
   "source": [
    "link = \"http://www.jacdec.de/airline-safety-ranking-2017/\"\n",
    "page = urlopen(link).read()\n",
    "soup = BeautifulSoup(page, 'html.parser')"
   ]
  },
  {
   "cell_type": "code",
   "execution_count": 43,
   "metadata": {},
   "outputs": [
    {
     "name": "stdout",
     "output_type": "stream",
     "text": [
      "{'result': [{'index': 'INDEX\\xa0', 'country': 'COUNTRY\\xa0'}, {'index': '2016\\xa0', 'country': '\\xa0'}, {'index': '0,005', 'country': '\\xa0China,Hong-Kong'}, {'index': '0,007', 'country': '\\xa0New Zealand'}, {'index': '0,009', 'country': '\\xa0China'}, {'index': '0,009', 'country': '\\xa0Qatar'}, {'index': '0,011', 'country': '\\xa0Netherlands'}, {'index': '0,012', 'country': '\\xa0Taiwan'}, {'index': '0,013', 'country': '\\xa0United Arab Emirates'}, {'index': '0,014', 'country': '\\xa0United Arab Emirates'}, {'index': '0,015', 'country': '\\xa0Australia'}, {'index': '0,015', 'country': '\\xa0Japan'}, {'index': '0,016', 'country': '\\xa0Japan'}, {'index': '0,016', 'country': '\\xa0Germany'}, {'index': '0,017', 'country': '\\xa0Portugal'}, {'index': '0,017', 'country': '\\xa0United Kingdom'}, {'index': '0,018', 'country': '\\xa0USA'}, {'index': '0,020', 'country': '\\xa0Canada'}, {'index': '0,020', 'country': '\\xa0USA'}, {'index': '0,020', 'country': '\\xa0Australia'}, {'index': '0,023', 'country': '\\xa0United Kingdom'}, {'index': '0,023', 'country': '\\xa0Germany'}, {'index': '0,023', 'country': '\\xa0Canada'}, {'index': '0,028', 'country': '\\xa0China'}, {'index': '\\xa00,032', 'country': '\\xa0Norway'}, {'index': '0,032', 'country': '\\xa0China'}, {'index': '0,034', 'country': '\\xa0Spain'}, {'index': '0,036', 'country': '\\xa0Australia'}, {'index': '0,037', 'country': '\\xa0USA'}, {'index': '0,037', 'country': '\\xa0United Kingdom'}, {'index': '0,043', 'country': '\\xa0Malaysia'}, {'index': '0,047', 'country': '\\xa0United Kingdom'}, {'index': '0,051', 'country': '\\xa0USA\\xa0'}, {'index': '0,051', 'country': '\\xa0Singapore\\xa0'}, {'index': '0,061', 'country': '\\xa0China\\xa0'}, {'index': '0,064', 'country': '\\xa0Ireland'}, {'index': '0,064', 'country': '\\xa0Switzerland\\xa0'}, {'index': '0,095', 'country': '\\xa0Chile\\xa0'}, {'index': '0,101', 'country': '\\xa0Russia'}, {'index': '0,109\\xa0', 'country': '\\xa0India'}, {'index': '0,113', 'country': '\\xa0Italy'}, {'index': '0,115\\xa0', 'country': '\\xa0India'}, {'index': '0,121', 'country': '\\xa0China\\xa0'}, {'index': '0,127\\xa0', 'country': '\\xa0France\\xa0'}, {'index': '0,127', 'country': '\\xa0Mexico\\xa0'}, {'index': '0,143\\xa0', 'country': '\\xa0USA\\xa0'}, {'index': '0,146', 'country': '\\xa0USA\\xa0'}, {'index': '0,171', 'country': '\\xa0China\\xa0'}, {'index': '0,215', 'country': '\\xa0South Korea\\xa0'}, {'index': '0,224', 'country': '\\xa0Thailand\\xa0'}, {'index': '0,267', 'country': '\\xa0(Multinational)'}, {'index': '0,316', 'country': '\\xa0Turkey'}, {'index': '0,349', 'country': '\\xa0South Korea'}, {'index': '0,439', 'country': '\\xa0China'}, {'index': '0,472\\xa0', 'country': '\\xa0Brazil'}, {'index': '0,507\\xa0', 'country': '\\xa0Saudi Arabia'}, {'index': '0,575', 'country': '\\xa0Brazil'}, {'index': '\\xa00,668', 'country': '\\xa0Malaysia'}, {'index': '0,764', 'country': '\\xa0Indonesia'}, {'index': '0,770', 'country': '\\xa0Indonesia'}, {'index': '0,914', 'country': '\\xa0Colombia'}, {'index': '0,977', 'country': '\\xa0Taiwan'}]}\n"
     ]
    }
   ],
   "source": [
    "dataClass = soup.findAll('tr')\n",
    "result = {}\n",
    "result['result'] = []\n",
    "for data in dataClass:\n",
    "    datax = {}\n",
    "    column = data.findAll('td')\n",
    "    if len(column) >= 4:\n",
    "        datax['index'] = column[5].text\n",
    "        datax['country'] = column[4].text\n",
    "        result['result'].append(datax)\n",
    "\n",
    "print(result)\n",
    "\n",
    "with open('data.json','w') as outfile:\n",
    "    json.dump(result,outfile)"
   ]
  },
  {
   "cell_type": "code",
   "execution_count": null,
   "metadata": {},
   "outputs": [],
   "source": []
  }
 ],
 "metadata": {
  "kernelspec": {
   "display_name": "Python 3",
   "language": "python",
   "name": "python3"
  },
  "language_info": {
   "codemirror_mode": {
    "name": "ipython",
    "version": 3
   },
   "file_extension": ".py",
   "mimetype": "text/x-python",
   "name": "python",
   "nbconvert_exporter": "python",
   "pygments_lexer": "ipython3",
   "version": "3.6.4"
  }
 },
 "nbformat": 4,
 "nbformat_minor": 2
}
